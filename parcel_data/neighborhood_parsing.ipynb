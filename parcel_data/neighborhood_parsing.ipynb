{
 "cells": [
  {
   "cell_type": "code",
   "execution_count": 1,
   "metadata": {},
   "outputs": [],
   "source": [
    "import pandas as pd"
   ]
  },
  {
   "cell_type": "code",
   "execution_count": 4,
   "metadata": {},
   "outputs": [],
   "source": [
    "data = pd.read_csv('../parcel_data/SF_Find_Neighborhood_Boundaries.csv')"
   ]
  },
  {
   "cell_type": "code",
   "execution_count": 5,
   "metadata": {},
   "outputs": [
    {
     "data": {
      "text/html": [
       "<div>\n",
       "<style scoped>\n",
       "    .dataframe tbody tr th:only-of-type {\n",
       "        vertical-align: middle;\n",
       "    }\n",
       "\n",
       "    .dataframe tbody tr th {\n",
       "        vertical-align: top;\n",
       "    }\n",
       "\n",
       "    .dataframe thead th {\n",
       "        text-align: right;\n",
       "    }\n",
       "</style>\n",
       "<table border=\"1\" class=\"dataframe\">\n",
       "  <thead>\n",
       "    <tr style=\"text-align: right;\">\n",
       "      <th></th>\n",
       "      <th>the_geom</th>\n",
       "      <th>link</th>\n",
       "      <th>name</th>\n",
       "    </tr>\n",
       "  </thead>\n",
       "  <tbody>\n",
       "    <tr>\n",
       "      <th>0</th>\n",
       "      <td>MULTIPOLYGON (((-122.49345526799993 37.7835181...</td>\n",
       "      <td>http://en.wikipedia.org/wiki/Sea_Cliff,_San_Fr...</td>\n",
       "      <td>Seacliff</td>\n",
       "    </tr>\n",
       "    <tr>\n",
       "      <th>1</th>\n",
       "      <td>MULTIPOLYGON (((-122.48715071499993 37.7837854...</td>\n",
       "      <td>NaN</td>\n",
       "      <td>Lake Street</td>\n",
       "    </tr>\n",
       "    <tr>\n",
       "      <th>2</th>\n",
       "      <td>MULTIPOLYGON (((-122.47758017099994 37.8109931...</td>\n",
       "      <td>http://www.nps.gov/prsf/index.htm</td>\n",
       "      <td>Presidio National Park</td>\n",
       "    </tr>\n",
       "    <tr>\n",
       "      <th>3</th>\n",
       "      <td>MULTIPOLYGON (((-122.47241052999993 37.7873465...</td>\n",
       "      <td>NaN</td>\n",
       "      <td>Presidio Terrace</td>\n",
       "    </tr>\n",
       "  </tbody>\n",
       "</table>\n",
       "</div>"
      ],
      "text/plain": [
       "                                            the_geom  \\\n",
       "0  MULTIPOLYGON (((-122.49345526799993 37.7835181...   \n",
       "1  MULTIPOLYGON (((-122.48715071499993 37.7837854...   \n",
       "2  MULTIPOLYGON (((-122.47758017099994 37.8109931...   \n",
       "3  MULTIPOLYGON (((-122.47241052999993 37.7873465...   \n",
       "\n",
       "                                                link                    name  \n",
       "0  http://en.wikipedia.org/wiki/Sea_Cliff,_San_Fr...                Seacliff  \n",
       "1                                                NaN             Lake Street  \n",
       "2                  http://www.nps.gov/prsf/index.htm  Presidio National Park  \n",
       "3                                                NaN        Presidio Terrace  "
      ]
     },
     "execution_count": 5,
     "metadata": {},
     "output_type": "execute_result"
    }
   ],
   "source": [
    "data.head(4)\n",
    "\n",
    "data[\"the_geom\"]"
   ]
  }
 ],
 "metadata": {
  "kernelspec": {
   "display_name": ".venv",
   "language": "python",
   "name": "python3"
  },
  "language_info": {
   "codemirror_mode": {
    "name": "ipython",
    "version": 3
   },
   "file_extension": ".py",
   "mimetype": "text/x-python",
   "name": "python",
   "nbconvert_exporter": "python",
   "pygments_lexer": "ipython3",
   "version": "3.13.1"
  }
 },
 "nbformat": 4,
 "nbformat_minor": 2
}
